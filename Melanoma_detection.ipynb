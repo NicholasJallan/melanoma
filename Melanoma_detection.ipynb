{
 "cells": [
  {
   "cell_type": "code",
   "execution_count": 1,
   "id": "719648fb",
   "metadata": {},
   "outputs": [],
   "source": [
    "import pandas as pd\n",
    "\n",
    "import torch\n",
    "from torch import nn\n",
    "from torch.utils.data import Dataset\n",
    "\n",
    "import torchvision\n",
    "import torchvision.transforms as transforms\n",
    "from torchvision import datasets\n",
    "import torchvision.models as models\n",
    "from torchvision.transforms import ToTensor\n",
    "\n",
    "import matplotlib.pyplot as plt\n",
    "import time\n",
    "\n",
    "import sklearn"
   ]
  },
  {
   "cell_type": "code",
   "execution_count": 2,
   "id": "c964d1ab",
   "metadata": {},
   "outputs": [
    {
     "data": {
      "text/html": [
       "<div>\n",
       "<style scoped>\n",
       "    .dataframe tbody tr th:only-of-type {\n",
       "        vertical-align: middle;\n",
       "    }\n",
       "\n",
       "    .dataframe tbody tr th {\n",
       "        vertical-align: top;\n",
       "    }\n",
       "\n",
       "    .dataframe thead th {\n",
       "        text-align: right;\n",
       "    }\n",
       "</style>\n",
       "<table border=\"1\" class=\"dataframe\">\n",
       "  <thead>\n",
       "    <tr style=\"text-align: right;\">\n",
       "      <th></th>\n",
       "      <th>image_name</th>\n",
       "      <th>patient_id</th>\n",
       "      <th>lesion_id</th>\n",
       "      <th>sex</th>\n",
       "      <th>age_approx</th>\n",
       "      <th>anatom_site_general_challenge</th>\n",
       "      <th>diagnosis</th>\n",
       "      <th>benign_malignant</th>\n",
       "      <th>target</th>\n",
       "    </tr>\n",
       "  </thead>\n",
       "  <tbody>\n",
       "    <tr>\n",
       "      <th>0</th>\n",
       "      <td>ISIC_2637011</td>\n",
       "      <td>IP_7279968</td>\n",
       "      <td>IL_7972535</td>\n",
       "      <td>male</td>\n",
       "      <td>45.0</td>\n",
       "      <td>head/neck</td>\n",
       "      <td>unknown</td>\n",
       "      <td>benign</td>\n",
       "      <td>0</td>\n",
       "    </tr>\n",
       "    <tr>\n",
       "      <th>1</th>\n",
       "      <td>ISIC_0015719</td>\n",
       "      <td>IP_3075186</td>\n",
       "      <td>IL_4649854</td>\n",
       "      <td>female</td>\n",
       "      <td>45.0</td>\n",
       "      <td>upper extremity</td>\n",
       "      <td>unknown</td>\n",
       "      <td>benign</td>\n",
       "      <td>0</td>\n",
       "    </tr>\n",
       "    <tr>\n",
       "      <th>2</th>\n",
       "      <td>ISIC_0052212</td>\n",
       "      <td>IP_2842074</td>\n",
       "      <td>IL_9087444</td>\n",
       "      <td>female</td>\n",
       "      <td>50.0</td>\n",
       "      <td>lower extremity</td>\n",
       "      <td>nevus</td>\n",
       "      <td>benign</td>\n",
       "      <td>0</td>\n",
       "    </tr>\n",
       "    <tr>\n",
       "      <th>3</th>\n",
       "      <td>ISIC_0068279</td>\n",
       "      <td>IP_6890425</td>\n",
       "      <td>IL_4255399</td>\n",
       "      <td>female</td>\n",
       "      <td>45.0</td>\n",
       "      <td>head/neck</td>\n",
       "      <td>unknown</td>\n",
       "      <td>benign</td>\n",
       "      <td>0</td>\n",
       "    </tr>\n",
       "    <tr>\n",
       "      <th>4</th>\n",
       "      <td>ISIC_0074268</td>\n",
       "      <td>IP_8723313</td>\n",
       "      <td>IL_6898037</td>\n",
       "      <td>female</td>\n",
       "      <td>55.0</td>\n",
       "      <td>upper extremity</td>\n",
       "      <td>unknown</td>\n",
       "      <td>benign</td>\n",
       "      <td>0</td>\n",
       "    </tr>\n",
       "  </tbody>\n",
       "</table>\n",
       "</div>"
      ],
      "text/plain": [
       "     image_name  patient_id   lesion_id     sex  age_approx  \\\n",
       "0  ISIC_2637011  IP_7279968  IL_7972535    male        45.0   \n",
       "1  ISIC_0015719  IP_3075186  IL_4649854  female        45.0   \n",
       "2  ISIC_0052212  IP_2842074  IL_9087444  female        50.0   \n",
       "3  ISIC_0068279  IP_6890425  IL_4255399  female        45.0   \n",
       "4  ISIC_0074268  IP_8723313  IL_6898037  female        55.0   \n",
       "\n",
       "  anatom_site_general_challenge diagnosis benign_malignant  target  \n",
       "0                     head/neck   unknown           benign       0  \n",
       "1               upper extremity   unknown           benign       0  \n",
       "2               lower extremity     nevus           benign       0  \n",
       "3                     head/neck   unknown           benign       0  \n",
       "4               upper extremity   unknown           benign       0  "
      ]
     },
     "execution_count": 2,
     "metadata": {},
     "output_type": "execute_result"
    }
   ],
   "source": [
    "df = pd.read_csv('ISIC_2020_Training_GroundTruth_v2.csv')\n",
    "df.head()"
   ]
  },
  {
   "cell_type": "code",
   "execution_count": 3,
   "id": "59556153",
   "metadata": {},
   "outputs": [
    {
     "data": {
      "text/plain": [
       "array(['benign', 'malignant'], dtype=object)"
      ]
     },
     "execution_count": 3,
     "metadata": {},
     "output_type": "execute_result"
    }
   ],
   "source": [
    "df.benign_malignant.unique()"
   ]
  },
  {
   "cell_type": "code",
   "execution_count": 4,
   "id": "089f540a",
   "metadata": {},
   "outputs": [
    {
     "data": {
      "text/plain": [
       "array([0, 1])"
      ]
     },
     "execution_count": 4,
     "metadata": {},
     "output_type": "execute_result"
    }
   ],
   "source": [
    "df.target.unique()"
   ]
  },
  {
   "cell_type": "code",
   "execution_count": 5,
   "id": "f9d78c3a",
   "metadata": {},
   "outputs": [
    {
     "data": {
      "text/plain": [
       "0    0.98237\n",
       "1    0.01763\n",
       "Name: target, dtype: float64"
      ]
     },
     "execution_count": 5,
     "metadata": {},
     "output_type": "execute_result"
    }
   ],
   "source": [
    "df.target.value_counts(normalize=True)"
   ]
  },
  {
   "cell_type": "code",
   "execution_count": 6,
   "id": "c621b0af",
   "metadata": {},
   "outputs": [
    {
     "data": {
      "text/plain": [
       "0    32542\n",
       "1      584\n",
       "Name: target, dtype: int64"
      ]
     },
     "execution_count": 6,
     "metadata": {},
     "output_type": "execute_result"
    }
   ],
   "source": [
    "df.target.value_counts()"
   ]
  },
  {
   "cell_type": "code",
   "execution_count": 7,
   "id": "4930192b",
   "metadata": {},
   "outputs": [
    {
     "name": "stdout",
     "output_type": "stream",
     "text": [
      "<class 'pandas.core.frame.DataFrame'>\n",
      "RangeIndex: 33126 entries, 0 to 33125\n",
      "Data columns (total 9 columns):\n",
      " #   Column                         Non-Null Count  Dtype  \n",
      "---  ------                         --------------  -----  \n",
      " 0   image_name                     33126 non-null  object \n",
      " 1   patient_id                     33126 non-null  object \n",
      " 2   lesion_id                      33126 non-null  object \n",
      " 3   sex                            33061 non-null  object \n",
      " 4   age_approx                     33058 non-null  float64\n",
      " 5   anatom_site_general_challenge  32599 non-null  object \n",
      " 6   diagnosis                      33126 non-null  object \n",
      " 7   benign_malignant               33126 non-null  object \n",
      " 8   target                         33126 non-null  int64  \n",
      "dtypes: float64(1), int64(1), object(7)\n",
      "memory usage: 2.3+ MB\n"
     ]
    }
   ],
   "source": [
    "df.info()"
   ]
  },
  {
   "cell_type": "code",
   "execution_count": 8,
   "id": "a6ab1f75",
   "metadata": {},
   "outputs": [],
   "source": [
    "import os\n",
    "import pandas as pd\n",
    "from torchvision.io import read_image\n",
    "\n",
    "class CustomImageDataset(Dataset):\n",
    "    def __init__(self, img_labels, img_dir, transform=None, target_transform=None):\n",
    "        self.img_labels = img_labels\n",
    "        self.img_dir = img_dir\n",
    "        self.transform = transform\n",
    "        self.target_transform = target_transform\n",
    "\n",
    "    def __len__(self):\n",
    "        return len(self.img_labels)\n",
    "\n",
    "    def __getitem__(self, idx):\n",
    "        img_path = os.path.join(self.img_dir, self.img_labels.iloc[idx, 0]) + '.jpg'\n",
    "        image = read_image(img_path)/255\n",
    "        #print(image)\n",
    "        label = self.img_labels.iloc[idx, 1]\n",
    "        if self.transform:\n",
    "            image = self.transform(image)\n",
    "        if self.target_transform:\n",
    "            label = self.target_transform(label)\n",
    "        return image, label"
   ]
  },
  {
   "cell_type": "code",
   "execution_count": 9,
   "id": "f34b0132",
   "metadata": {},
   "outputs": [],
   "source": [
    "workers = 12\n",
    "batch_size=5\n",
    "train_number=int(len(df)*0.8)\n",
    "valid_number=len(df)-train_number"
   ]
  },
  {
   "cell_type": "code",
   "execution_count": 10,
   "id": "7c79e5a5",
   "metadata": {},
   "outputs": [
    {
     "name": "stdout",
     "output_type": "stream",
     "text": [
      "tensor([0.8237, 0.6281, 0.5909]) tensor([0.0659, 0.0895, 0.1106])\n"
     ]
    }
   ],
   "source": [
    "transform = transforms.Compose([\n",
    "            transforms.RandomResizedCrop(224)\n",
    "        ])\n",
    "\n",
    "dataset = CustomImageDataset(img_labels=df[['image_name', 'benign_malignant']], img_dir='./train', transform=transform)\n",
    "all_loader = torch.utils.data.DataLoader(dataset, batch_size=batch_size, pin_memory=False, num_workers=workers)\n",
    "\n",
    "mean = 0.\n",
    "std = 0.\n",
    "for images, _ in all_loader:\n",
    "    batch_samples = images.size(0) \n",
    "    images = images.view(batch_samples, images.size(1), -1)\n",
    "    mean += images.mean(2).sum(0)\n",
    "    std += images.std(2).sum(0)\n",
    "\n",
    "mean /= len(all_loader.dataset)\n",
    "std /= len(all_loader.dataset)\n",
    "\n",
    "print(mean, std)"
   ]
  },
  {
   "cell_type": "code",
   "execution_count": 10,
   "id": "05d45645",
   "metadata": {},
   "outputs": [],
   "source": [
    "#normalize = transforms.Normalize(mean=[0.8238, 0.6281, 0.5910], std=[0.0659, 0.0895, 0.1105]) #only for custom NN\n",
    "\n",
    "normalize = transforms.Normalize(mean=[0.485, 0.456, 0.406], std=[0.229, 0.224, 0.225]) #for any imported model\n",
    "\n",
    "transform = transforms.Compose([\n",
    "            transforms.RandomRotation(90),\n",
    "            transforms.RandomResizedCrop(224),\n",
    "            transforms.RandomHorizontalFlip(),\n",
    "            transforms.RandomVerticalFlip(),\n",
    "            normalize\n",
    "        ])\n",
    "\n",
    "dataset = CustomImageDataset(img_labels=df[['image_name', 'target']], img_dir='./train', transform=transform)\n",
    "train_set, valid_set = torch.utils.data.random_split(dataset, [train_number, valid_number])\n",
    "\n",
    "\n",
    "train_loader = torch.utils.data.DataLoader(train_set, batch_size=batch_size, shuffle=True, pin_memory=True, num_workers=workers)\n",
    "valid_loader = torch.utils.data.DataLoader(valid_set, batch_size=batch_size, shuffle=False, num_workers=workers)"
   ]
  },
  {
   "cell_type": "code",
   "execution_count": 11,
   "id": "26fc74dc",
   "metadata": {},
   "outputs": [
    {
     "name": "stderr",
     "output_type": "stream",
     "text": [
      "Clipping input data to the valid range for imshow with RGB data ([0..1] for floats or [0..255] for integers).\n"
     ]
    },
    {
     "name": "stdout",
     "output_type": "stream",
     "text": [
      "torch.Size([5, 3, 224, 224])\n"
     ]
    },
    {
     "data": {
      "image/png": "[encoded data removed]",
      "text/plain": [
       "<Figure size 432x288 with 1 Axes>"
      ]
     },
     "metadata": {
      "needs_background": "light"
     },
     "output_type": "display_data"
    },
    {
     "name": "stdout",
     "output_type": "stream",
     "text": [
      "tensor(0) tensor(0) tensor(0) tensor(0) tensor(0)\n"
     ]
    }
   ],
   "source": [
    "import matplotlib.pyplot as plt\n",
    "import numpy as np\n",
    "\n",
    "# functions to show an image\n",
    "\n",
    "\n",
    "def imshow(img):\n",
    "    #print(img.shape)\n",
    "    #img = img / torch.tensor([0.485, 0.456, 0.406]) + torch.tensor([0.229, 0.224, 0.225])     # unnormalize\n",
    "    #img = img / 0.50 + 0.5     # unnormalize\n",
    "    npimg = img.numpy()\n",
    "    plt.imshow(np.transpose(npimg, (1, 2, 0)))\n",
    "    plt.show()\n",
    "\n",
    "\n",
    "# get some random training images\n",
    "dataiter = iter(train_loader)\n",
    "\n",
    "images, labels = dataiter.next()\n",
    "\n",
    "print(images.shape)\n",
    "\n",
    "# show images\n",
    "imshow(torchvision.utils.make_grid(images))\n",
    "# print labels\n",
    "print(' '.join('%5s' % labels[j] for j in range(batch_size)))"
   ]
  },
  {
   "cell_type": "code",
   "execution_count": 12,
   "id": "81c328db",
   "metadata": {},
   "outputs": [
    {
     "data": {
      "text/plain": [
       "VGG(\n",
       "  (features): Sequential(\n",
       "    (0): Conv2d(3, 64, kernel_size=(3, 3), stride=(1, 1), padding=(1, 1))\n",
       "    (1): ReLU(inplace=True)\n",
       "    (2): Conv2d(64, 64, kernel_size=(3, 3), stride=(1, 1), padding=(1, 1))\n",
       "    (3): ReLU(inplace=True)\n",
       "    (4): MaxPool2d(kernel_size=2, stride=2, padding=0, dilation=1, ceil_mode=False)\n",
       "    (5): Conv2d(64, 128, kernel_size=(3, 3), stride=(1, 1), padding=(1, 1))\n",
       "    (6): ReLU(inplace=True)\n",
       "    (7): Conv2d(128, 128, kernel_size=(3, 3), stride=(1, 1), padding=(1, 1))\n",
       "    (8): ReLU(inplace=True)\n",
       "    (9): MaxPool2d(kernel_size=2, stride=2, padding=0, dilation=1, ceil_mode=False)\n",
       "    (10): Conv2d(128, 256, kernel_size=(3, 3), stride=(1, 1), padding=(1, 1))\n",
       "    (11): ReLU(inplace=True)\n",
       "    (12): Conv2d(256, 256, kernel_size=(3, 3), stride=(1, 1), padding=(1, 1))\n",
       "    (13): ReLU(inplace=True)\n",
       "    (14): Conv2d(256, 256, kernel_size=(3, 3), stride=(1, 1), padding=(1, 1))\n",
       "    (15): ReLU(inplace=True)\n",
       "    (16): MaxPool2d(kernel_size=2, stride=2, padding=0, dilation=1, ceil_mode=False)\n",
       "    (17): Conv2d(256, 512, kernel_size=(3, 3), stride=(1, 1), padding=(1, 1))\n",
       "    (18): ReLU(inplace=True)\n",
       "    (19): Conv2d(512, 512, kernel_size=(3, 3), stride=(1, 1), padding=(1, 1))\n",
       "    (20): ReLU(inplace=True)\n",
       "    (21): Conv2d(512, 512, kernel_size=(3, 3), stride=(1, 1), padding=(1, 1))\n",
       "    (22): ReLU(inplace=True)\n",
       "    (23): MaxPool2d(kernel_size=2, stride=2, padding=0, dilation=1, ceil_mode=False)\n",
       "    (24): Conv2d(512, 512, kernel_size=(3, 3), stride=(1, 1), padding=(1, 1))\n",
       "    (25): ReLU(inplace=True)\n",
       "    (26): Conv2d(512, 512, kernel_size=(3, 3), stride=(1, 1), padding=(1, 1))\n",
       "    (27): ReLU(inplace=True)\n",
       "    (28): Conv2d(512, 512, kernel_size=(3, 3), stride=(1, 1), padding=(1, 1))\n",
       "    (29): ReLU(inplace=True)\n",
       "    (30): MaxPool2d(kernel_size=2, stride=2, padding=0, dilation=1, ceil_mode=False)\n",
       "  )\n",
       "  (avgpool): AdaptiveAvgPool2d(output_size=(7, 7))\n",
       "  (classifier): Sequential(\n",
       "    (0): Linear(in_features=25088, out_features=4096, bias=True)\n",
       "    (1): ReLU(inplace=True)\n",
       "    (2): Dropout(p=0.2, inplace=False)\n",
       "    (3): Linear(in_features=4096, out_features=256, bias=True)\n",
       "    (4): ReLU(inplace=True)\n",
       "    (5): Dropout(p=0.2, inplace=False)\n",
       "    (6): Linear(in_features=256, out_features=1, bias=True)\n",
       "  )\n",
       ")"
      ]
     },
     "execution_count": 12,
     "metadata": {},
     "output_type": "execute_result"
    }
   ],
   "source": [
    "model = models.vgg16(pretrained=True)\n",
    "\n",
    "for param in model.parameters():\n",
    "    param.requires_grad = False\n",
    "\n",
    "classifier = nn.Sequential(\n",
    "    #nn.Dropout(p=0.1, inplace=False),\n",
    "    nn.Linear(in_features=25088, out_features=4096, bias=True),\n",
    "    nn.ReLU(inplace=True),\n",
    "    nn.Dropout(p=0.2, inplace=False),\n",
    "    nn.Linear(in_features=4096, out_features=256, bias=True),\n",
    "    nn.ReLU(inplace=True),\n",
    "    nn.Dropout(p=0.2, inplace=False),\n",
    "    nn.Linear(in_features=256, out_features=1, bias=True),\n",
    "\n",
    "    # deactivated for usage of torch.nn.BCEWithLogitsLoss(pos_weight=pos_weight)\n",
    "    #torch.nn.Sigmoid()\n",
    ")\n",
    "model.classifier = classifier\n",
    "\n",
    "model"
   ]
  },
  {
   "cell_type": "code",
   "execution_count": 13,
   "id": "4798cd5f",
   "metadata": {},
   "outputs": [],
   "source": [
    "## alternative : start from scratch ?\n",
    "\n",
    "class Net(nn.Module):\n",
    "    def __init__(self):\n",
    "        super(Net, self).__init__()\n",
    "        # convolutional layer\n",
    "        self.conv1 = nn.Conv2d(3, 16, 5)\n",
    "        # max pooling layer\n",
    "        self.pool = nn.MaxPool2d(2, 2)\n",
    "        self.conv2 = nn.Conv2d(16, 32, 5)\n",
    "        self.dropout = nn.Dropout(0.2)\n",
    "        self.fc1 = nn.Linear(32*53*53, 256)\n",
    "        self.fc2 = nn.Linear(256, 84)\n",
    "        self.fc3 = nn.Linear(84, 2)\n",
    "        self.softmax = nn.Sigmoid(input=2, output=1)\n",
    "        \n",
    "    def forward(self, x):\n",
    "        # add sequence of convolutional and max pooling layers\n",
    "        x = self.pool(torch.nn.functional.relu(self.conv1(x)))\n",
    "        x = self.pool(torch.nn.functional.relu(self.conv2(x)))\n",
    "        x = self.dropout(x)\n",
    "        x = x.view(-1, 32 * 53 * 53)\n",
    "        x = torch.nn.functional.relu(self.fc1(x))\n",
    "        x = self.dropout(torch.nn.functional.relu(self.fc2(x)))\n",
    "        x = self.softmax(self.fc3(x))\n",
    "        return x"
   ]
  },
  {
   "cell_type": "code",
   "execution_count": 14,
   "id": "e5c3a269",
   "metadata": {},
   "outputs": [
    {
     "name": "stdout",
     "output_type": "stream",
     "text": [
      "retained device : cuda\n"
     ]
    }
   ],
   "source": [
    "\n",
    "#model=Net()\n",
    "\n",
    "device = torch.device(\"cuda\" if torch.cuda.is_available() else \"cpu\")\n",
    "\n",
    "print(\"retained device :\", device)\n",
    "\n",
    "model.to(device)\n",
    "\n",
    "\n",
    "#criterion = torch.nn.BCELoss(weight= torch.tensor([0.98237/0.01763]))\n",
    "criterion = torch.nn.BCEWithLogitsLoss(pos_weight=torch.tensor([0.98237/0.01763]))\n",
    "\n",
    "criterion.to(device)\n",
    "\n",
    "learning_rate = 1e-3\n",
    "optimizer = torch.optim.Adam(model.parameters(), lr=learning_rate)"
   ]
  },
  {
   "cell_type": "code",
   "execution_count": null,
   "id": "812c6574",
   "metadata": {},
   "outputs": [
    {
     "name": "stdout",
     "output_type": "stream",
     "text": [
      "The training is done on the GPU\n"
     ]
    }
   ],
   "source": [
    "def train(net, loader, criterion, optimizer, device):\n",
    "    \"\"\"Perform one epoch over the input set.\n",
    "\n",
    "    Arguments:\n",
    "      net : Input neural network\n",
    "      loader : Data loader\n",
    "      criterion : function to compute the loss\n",
    "      optimizer : funtion for stepping toward the minima (hopefuly)\n",
    "      device : The device on which to run the computation\n",
    "\n",
    "    \"\"\"\n",
    "    # Set the network to \"training\" mode\n",
    "    net.train()\n",
    "\n",
    "    total_loss = 0\n",
    "    n_correct = 0\n",
    "    \n",
    "    \n",
    "    for i, (batch, target) in enumerate(loader):\n",
    "        # Move both batch and target to the GPU\n",
    "        # on the same device as the model and the\n",
    "        # criterion.\n",
    "        #\n",
    "        # Don't forget that tensor needs assignment\n",
    "        # (i.e. you need to do x = x.to(device), not\n",
    "        # just x.to(device) like with a model)\n",
    "        #batch = torch.tensor(batch, dtype=torch.float64, device=device)\n",
    "        #target = torch.tensor(target).to(device)\n",
    "        batch = batch.to(device)\n",
    "        target = target.type(torch.float).to(device)\n",
    "\n",
    "        # 1. Perform the forward pass on the mini-batch\n",
    "        output = net.forward(batch)        \n",
    "        output = output.view(-1)\n",
    "        \n",
    "        n_correct += count_nb_correct(output, target)\n",
    "\n",
    "        # 2. Compute the loss (variable 'loss')\n",
    "        loss = criterion(output, target)\n",
    "\n",
    "        # 3. Run the backward pass :\n",
    "        # a. Zero the values of the optimizer\n",
    "        optimizer.zero_grad()\n",
    "        # b. Compute the loss backward\n",
    "        loss.backward()\n",
    "        # c. Perform one step of optimizer\n",
    "        optimizer.step()\n",
    "\n",
    "        total_loss += loss.item()\n",
    "\n",
    "    return total_loss, float(n_correct) / float(len(loader.dataset))\n",
    "\n",
    "\n",
    "\n",
    "m = nn.Sigmoid()\n",
    "\n",
    "def count_nb_correct(output, target):\n",
    "    \"\"\"Count the number of correct labels compared to\n",
    "    the ground truth\n",
    "\n",
    "    Args:\n",
    "        output: The output of a network, a tensor of size (n_samples, n_classes)\n",
    "        target: The ground truth, returned by the DataLoader, a tensor of size (n_samples, )\n",
    "\n",
    "    Returns:\n",
    "        The number of correct labels\n",
    "\n",
    "    \"\"\"\n",
    "    #print(\"output:\", output)\n",
    "    #print(\"target:\", target)\n",
    "    \n",
    "    out = torch.round(m(output))\n",
    "\n",
    "    #print(\"out:\", out)\n",
    "    \n",
    "    res = torch.eq(torch.argmax(out), target).sum().item()\n",
    "    #print(\"res:\", res)\n",
    "    return res\n",
    "\n",
    "\n",
    "def validate(net, loader, device):\n",
    "    # Set the network to evalution mode\n",
    "    net.eval()\n",
    "\n",
    "    # Total number of correctly classified samples\n",
    "    n_correct = 0\n",
    "\n",
    "    with torch.no_grad():\n",
    "        for i, (batch, target) in enumerate(loader):\n",
    "            # Move both batch and target to the GPU\n",
    "            # on the same device as the model and the\n",
    "            # criterion.\n",
    "            batch = batch.to(device)\n",
    "            target = torch.tensor(target).to(device)\n",
    "\n",
    "            # 1. Perform the forward pass\n",
    "            output = net.forward(batch)\n",
    "            output = output.view(-1)\n",
    "\n",
    "            # 2. Update 'n_correct'\n",
    "            n_correct += count_nb_correct(output, target)\n",
    "\n",
    "    return float(n_correct) / float(len(loader.dataset))\n",
    "\n",
    "\n",
    "def plot_results(epochs, train_losses, valid_accuracies, figsize=(16,5)):\n",
    "    \"\"\"\n",
    "    \"\"\"\n",
    "    plt.figure(figsize=figsize)\n",
    "    plt.subplot(1, 2, 1)\n",
    "    plt.plot(epochs, train_losses, \"r\", label=\"Train loss\")\n",
    "    plt.title(\"Train loss\")\n",
    "    plt.legend()\n",
    "    plt.subplot(1, 2, 2)\n",
    "    plt.plot(epochs, valid_accuracies, \"r\", label=\"Validation accuracy\")\n",
    "    plt.title(\"Validation accuracy\")\n",
    "    plt.legend()\n",
    "    plt.show()\n",
    "\n",
    "n_epochs = 10\n",
    "epochs = []\n",
    "train_losses = []\n",
    "train_accuracies = []\n",
    "valid_accuracies = []\n",
    "\n",
    "print(f\"The training is done on the {'GPU' if next(model.parameters()).is_cuda else 'CPU'}\")\n",
    "\n",
    "beg = time.perf_counter()\n",
    "for epoch in range(n_epochs):\n",
    "    # Perform training\n",
    "    train_loss, train_accuracy = train(model, train_loader, criterion, optimizer, device)\n",
    "    epochs.append(epoch)\n",
    "    train_accuracies.append(train_accuracy)\n",
    "    train_losses.append(train_loss)\n",
    "    # Test on validation set\n",
    "    valid_accuracy = validate(model, valid_loader, device)\n",
    "    valid_accuracies.append(valid_accuracy)\n",
    "    print(f\"epoch {epoch} loss {train_loss:.3f} train accuracy {100*train_accuracy:.2f}% validation accuracy {100*valid_accuracy:.2f}%\")\n",
    "print(f\"Training took {time.perf_counter()-beg:.2f} seconds\")\n",
    "plot_results(epochs, train_losses, valid_accuracies)\n",
    "\n",
    "\n",
    "def model_save(fn):\n",
    "    with open(fn, 'wb') as f:\n",
    "        torch.save([model, criterion, optimizer], f)\n",
    "\n",
    "\n",
    "model_save('torch_cat.model')"
   ]
  },
  {
   "cell_type": "code",
   "execution_count": null,
   "id": "0d1ce806",
   "metadata": {},
   "outputs": [],
   "source": []
  },
  {
   "cell_type": "code",
   "execution_count": null,
   "id": "7156e2aa",
   "metadata": {},
   "outputs": [],
   "source": []
  }
 ],
 "metadata": {
  "kernelspec": {
   "display_name": "Python 3",
   "language": "python",
   "name": "python3"
  },
  "language_info": {
   "codemirror_mode": {
    "name": "ipython",
    "version": 3
   },
   "file_extension": ".py",
   "mimetype": "text/x-python",
   "name": "python",
   "nbconvert_exporter": "python",
   "pygments_lexer": "ipython3",
   "version": "3.9.4"
  }
 },
 "nbformat": 4,
 "nbformat_minor": 5
}
